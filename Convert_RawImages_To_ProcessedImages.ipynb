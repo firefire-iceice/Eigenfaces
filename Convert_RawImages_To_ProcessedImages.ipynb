{
 "cells": [
  {
   "cell_type": "code",
   "execution_count": 5,
   "metadata": {},
   "outputs": [],
   "source": [
    "import imageio\n",
    "from sklearn.preprocessing import normalize"
   ]
  },
  {
   "cell_type": "markdown",
   "metadata": {},
   "source": [
    "## Converting the RAW Images into *.png* format for easier analysis"
   ]
  },
  {
   "cell_type": "code",
   "execution_count": 29,
   "metadata": {},
   "outputs": [],
   "source": [
    "import numpy as np\n",
    "from PIL import Image\n",
    "import os\n",
    "\n",
    "# Define width and height\n",
    "w, h = 128, 128\n",
    "\n",
    "ORIGIN_FOLDER = \"rawdata\"\n",
    "FINAL_FOLDER  = \"processedImages\"\n",
    "\n",
    "# Creating the destination folder into which the processed images\n",
    "# will go into\n",
    "os.mkdir(os.path.join(FINAL_FOLDER))\n",
    "\n",
    "# Getting the names of the files in the folder of RAW images\n",
    "# The name of the folder is in the ORIGIN_FOLDER variable\n",
    "fileList = os.listdir(os.path.join(ORIGIN_FOLDER))\n",
    "\n",
    "# We one-by-one convert each and every RAW image to a png image\n",
    "# format and save it in the FINAL_FOLDER\n",
    "for i in fileList:\n",
    "    # Read file using numpy \"fromfile()\"\n",
    "    with open(os.path.join(ORIGIN_FOLDER, i), mode='rb') as f:\n",
    "        d = np.fromfile(f,dtype=np.uint8,count=w*h).reshape(h,w)\n",
    "\n",
    "    # Make into PIL Image and save\n",
    "    PILimage = Image.fromarray(d)\n",
    "    PILimage.save(os.path.join(FINAL_FOLDER, i + \".png\"))"
   ]
  }
 ],
 "metadata": {
  "kernelspec": {
   "display_name": "code-env",
   "language": "python",
   "name": "code-env"
  },
  "language_info": {
   "codemirror_mode": {
    "name": "ipython",
    "version": 3
   },
   "file_extension": ".py",
   "mimetype": "text/x-python",
   "name": "python",
   "nbconvert_exporter": "python",
   "pygments_lexer": "ipython3",
   "version": "3.8.2"
  }
 },
 "nbformat": 4,
 "nbformat_minor": 4
}
